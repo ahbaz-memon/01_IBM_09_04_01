{
 "cells": [
  {
   "cell_type": "code",
   "execution_count": 1,
   "metadata": {},
   "outputs": [],
   "source": [
    "import requests\n",
    "import pandas as pd\n",
    "import numpy as np\n",
    "import folium"
   ]
  },
  {
   "cell_type": "code",
   "execution_count": 2,
   "metadata": {},
   "outputs": [
    {
     "name": "stdout",
     "output_type": "stream",
     "text": [
      "Downloaded page successfully\n"
     ]
    }
   ],
   "source": [
    "url  = \"https://en.wikipedia.org/wiki/List_of_postal_codes_of_Canada:_M\"\n",
    "page = requests.get(url)\n",
    "if page.status_code == 200:\n",
    "    print('Downloaded page successfully')\n",
    "else:\n",
    "    print('Unable to download. Error code: {}'.format(page.status_code))"
   ]
  },
  {
   "cell_type": "code",
   "execution_count": 3,
   "metadata": {},
   "outputs": [
    {
     "data": {
      "text/html": [
       "<div>\n",
       "<style scoped>\n",
       "    .dataframe tbody tr th:only-of-type {\n",
       "        vertical-align: middle;\n",
       "    }\n",
       "\n",
       "    .dataframe tbody tr th {\n",
       "        vertical-align: top;\n",
       "    }\n",
       "\n",
       "    .dataframe thead th {\n",
       "        text-align: right;\n",
       "    }\n",
       "</style>\n",
       "<table border=\"1\" class=\"dataframe\">\n",
       "  <thead>\n",
       "    <tr style=\"text-align: right;\">\n",
       "      <th></th>\n",
       "      <th>Postal Code</th>\n",
       "      <th>Borough</th>\n",
       "      <th>Neighbourhood</th>\n",
       "    </tr>\n",
       "  </thead>\n",
       "  <tbody>\n",
       "    <tr>\n",
       "      <th>0</th>\n",
       "      <td>M1A</td>\n",
       "      <td>NaN</td>\n",
       "      <td>NaN</td>\n",
       "    </tr>\n",
       "    <tr>\n",
       "      <th>1</th>\n",
       "      <td>M2A</td>\n",
       "      <td>NaN</td>\n",
       "      <td>NaN</td>\n",
       "    </tr>\n",
       "    <tr>\n",
       "      <th>2</th>\n",
       "      <td>M3A</td>\n",
       "      <td>North York</td>\n",
       "      <td>Parkwoods</td>\n",
       "    </tr>\n",
       "    <tr>\n",
       "      <th>3</th>\n",
       "      <td>M4A</td>\n",
       "      <td>North York</td>\n",
       "      <td>Victoria Village</td>\n",
       "    </tr>\n",
       "    <tr>\n",
       "      <th>4</th>\n",
       "      <td>M5A</td>\n",
       "      <td>Downtown Toronto</td>\n",
       "      <td>Regent Park, Harbourfront</td>\n",
       "    </tr>\n",
       "  </tbody>\n",
       "</table>\n",
       "</div>"
      ],
      "text/plain": [
       "  Postal Code           Borough              Neighbourhood\n",
       "0         M1A               NaN                        NaN\n",
       "1         M2A               NaN                        NaN\n",
       "2         M3A        North York                  Parkwoods\n",
       "3         M4A        North York           Victoria Village\n",
       "4         M5A  Downtown Toronto  Regent Park, Harbourfront"
      ]
     },
     "execution_count": 3,
     "metadata": {},
     "output_type": "execute_result"
    }
   ],
   "source": [
    "import lxml\n",
    "df_html = pd.read_html(url, header=0, na_values = ['Not assigned'])[0]\n",
    "df_html.head()"
   ]
  },
  {
   "cell_type": "code",
   "execution_count": 4,
   "metadata": {},
   "outputs": [],
   "source": [
    "df_html.dropna(subset=['Borough'], inplace=True)"
   ]
  },
  {
   "cell_type": "code",
   "execution_count": 8,
   "metadata": {},
   "outputs": [
    {
     "name": "stdout",
     "output_type": "stream",
     "text": [
      "Number of rows on which Neighborhood column is empty: 0\n"
     ]
    }
   ],
   "source": [
    "n_empty_neighborhood = df_html[df_html['Neighbourhood'].isna()].shape[0]\n",
    "print('Number of rows on which Neighborhood column is empty: {}'.format(n_empty_neighborhood))"
   ]
  },
  {
   "cell_type": "code",
   "execution_count": 16,
   "metadata": {},
   "outputs": [
    {
     "data": {
      "text/html": [
       "<div>\n",
       "<style scoped>\n",
       "    .dataframe tbody tr th:only-of-type {\n",
       "        vertical-align: middle;\n",
       "    }\n",
       "\n",
       "    .dataframe tbody tr th {\n",
       "        vertical-align: top;\n",
       "    }\n",
       "\n",
       "    .dataframe thead th {\n",
       "        text-align: right;\n",
       "    }\n",
       "</style>\n",
       "<table border=\"1\" class=\"dataframe\">\n",
       "  <thead>\n",
       "    <tr style=\"text-align: right;\">\n",
       "      <th></th>\n",
       "      <th>Postal Code</th>\n",
       "      <th>Borough</th>\n",
       "      <th>Neighbourhood</th>\n",
       "    </tr>\n",
       "  </thead>\n",
       "  <tbody>\n",
       "    <tr>\n",
       "      <th>0</th>\n",
       "      <td>M1B</td>\n",
       "      <td>Scarborough</td>\n",
       "      <td>Malvern, Rouge</td>\n",
       "    </tr>\n",
       "    <tr>\n",
       "      <th>1</th>\n",
       "      <td>M1C</td>\n",
       "      <td>Scarborough</td>\n",
       "      <td>Rouge Hill, Port Union, Highland Creek</td>\n",
       "    </tr>\n",
       "    <tr>\n",
       "      <th>2</th>\n",
       "      <td>M1E</td>\n",
       "      <td>Scarborough</td>\n",
       "      <td>Guildwood, Morningside, West Hill</td>\n",
       "    </tr>\n",
       "    <tr>\n",
       "      <th>3</th>\n",
       "      <td>M1G</td>\n",
       "      <td>Scarborough</td>\n",
       "      <td>Woburn</td>\n",
       "    </tr>\n",
       "    <tr>\n",
       "      <th>4</th>\n",
       "      <td>M1H</td>\n",
       "      <td>Scarborough</td>\n",
       "      <td>Cedarbrae</td>\n",
       "    </tr>\n",
       "  </tbody>\n",
       "</table>\n",
       "</div>"
      ],
      "text/plain": [
       "  Postal Code      Borough                           Neighbourhood\n",
       "0         M1B  Scarborough                          Malvern, Rouge\n",
       "1         M1C  Scarborough  Rouge Hill, Port Union, Highland Creek\n",
       "2         M1E  Scarborough       Guildwood, Morningside, West Hill\n",
       "3         M1G  Scarborough                                  Woburn\n",
       "4         M1H  Scarborough                               Cedarbrae"
      ]
     },
     "execution_count": 16,
     "metadata": {},
     "output_type": "execute_result"
    }
   ],
   "source": [
    "df_postalcode =pd.DataFrame(df_html.groupby(['Postal Code','Borough']).Neighbourhood.agg([('Neighbourhood', ', '.join)]))\n",
    "df_postalcode.reset_index(inplace=True)\n",
    "df_postalcode.head(5)"
   ]
  },
  {
   "cell_type": "code",
   "execution_count": 17,
   "metadata": {},
   "outputs": [],
   "source": [
    "df_html.dropna(subset=['Borough'], inplace=True)"
   ]
  },
  {
   "cell_type": "code",
   "execution_count": 18,
   "metadata": {},
   "outputs": [
    {
     "name": "stdout",
     "output_type": "stream",
     "text": [
      "The shape of the dataset: (103, 3)\n"
     ]
    }
   ],
   "source": [
    "print('The shape of the dataset:',df_postalcode.shape)"
   ]
  },
  {
   "cell_type": "code",
   "execution_count": 20,
   "metadata": {},
   "outputs": [],
   "source": [
    "df_postalcode.to_csv('Toronto_data.csv')"
   ]
  },
  {
   "cell_type": "code",
   "execution_count": 22,
   "metadata": {},
   "outputs": [
    {
     "data": {
      "text/html": [
       "<div>\n",
       "<style scoped>\n",
       "    .dataframe tbody tr th:only-of-type {\n",
       "        vertical-align: middle;\n",
       "    }\n",
       "\n",
       "    .dataframe tbody tr th {\n",
       "        vertical-align: top;\n",
       "    }\n",
       "\n",
       "    .dataframe thead th {\n",
       "        text-align: right;\n",
       "    }\n",
       "</style>\n",
       "<table border=\"1\" class=\"dataframe\">\n",
       "  <thead>\n",
       "    <tr style=\"text-align: right;\">\n",
       "      <th></th>\n",
       "      <th>Postal Code</th>\n",
       "      <th>Latitude</th>\n",
       "      <th>Longitude</th>\n",
       "    </tr>\n",
       "  </thead>\n",
       "  <tbody>\n",
       "    <tr>\n",
       "      <th>0</th>\n",
       "      <td>M1B</td>\n",
       "      <td>43.806686</td>\n",
       "      <td>-79.194353</td>\n",
       "    </tr>\n",
       "    <tr>\n",
       "      <th>1</th>\n",
       "      <td>M1C</td>\n",
       "      <td>43.784535</td>\n",
       "      <td>-79.160497</td>\n",
       "    </tr>\n",
       "    <tr>\n",
       "      <th>2</th>\n",
       "      <td>M1E</td>\n",
       "      <td>43.763573</td>\n",
       "      <td>-79.188711</td>\n",
       "    </tr>\n",
       "    <tr>\n",
       "      <th>3</th>\n",
       "      <td>M1G</td>\n",
       "      <td>43.770992</td>\n",
       "      <td>-79.216917</td>\n",
       "    </tr>\n",
       "    <tr>\n",
       "      <th>4</th>\n",
       "      <td>M1H</td>\n",
       "      <td>43.773136</td>\n",
       "      <td>-79.239476</td>\n",
       "    </tr>\n",
       "  </tbody>\n",
       "</table>\n",
       "</div>"
      ],
      "text/plain": [
       "  Postal Code   Latitude  Longitude\n",
       "0         M1B  43.806686 -79.194353\n",
       "1         M1C  43.784535 -79.160497\n",
       "2         M1E  43.763573 -79.188711\n",
       "3         M1G  43.770992 -79.216917\n",
       "4         M1H  43.773136 -79.239476"
      ]
     },
     "execution_count": 22,
     "metadata": {},
     "output_type": "execute_result"
    }
   ],
   "source": [
    "url_csv = 'http://cocl.us/Geospatial_data'\n",
    "df_coordinate = pd.read_csv(url_csv)\n",
    "df_coordinate.head()"
   ]
  },
  {
   "cell_type": "code",
   "execution_count": 23,
   "metadata": {},
   "outputs": [
    {
     "data": {
      "text/html": [
       "<div>\n",
       "<style scoped>\n",
       "    .dataframe tbody tr th:only-of-type {\n",
       "        vertical-align: middle;\n",
       "    }\n",
       "\n",
       "    .dataframe tbody tr th {\n",
       "        vertical-align: top;\n",
       "    }\n",
       "\n",
       "    .dataframe thead th {\n",
       "        text-align: right;\n",
       "    }\n",
       "</style>\n",
       "<table border=\"1\" class=\"dataframe\">\n",
       "  <thead>\n",
       "    <tr style=\"text-align: right;\">\n",
       "      <th></th>\n",
       "      <th>Postal Code</th>\n",
       "      <th>Borough</th>\n",
       "      <th>Neighbourhood</th>\n",
       "    </tr>\n",
       "  </thead>\n",
       "  <tbody>\n",
       "    <tr>\n",
       "      <th>0</th>\n",
       "      <td>M1B</td>\n",
       "      <td>Scarborough</td>\n",
       "      <td>Malvern, Rouge</td>\n",
       "    </tr>\n",
       "    <tr>\n",
       "      <th>1</th>\n",
       "      <td>M1C</td>\n",
       "      <td>Scarborough</td>\n",
       "      <td>Rouge Hill, Port Union, Highland Creek</td>\n",
       "    </tr>\n",
       "    <tr>\n",
       "      <th>2</th>\n",
       "      <td>M1E</td>\n",
       "      <td>Scarborough</td>\n",
       "      <td>Guildwood, Morningside, West Hill</td>\n",
       "    </tr>\n",
       "    <tr>\n",
       "      <th>3</th>\n",
       "      <td>M1G</td>\n",
       "      <td>Scarborough</td>\n",
       "      <td>Woburn</td>\n",
       "    </tr>\n",
       "    <tr>\n",
       "      <th>4</th>\n",
       "      <td>M1H</td>\n",
       "      <td>Scarborough</td>\n",
       "      <td>Cedarbrae</td>\n",
       "    </tr>\n",
       "  </tbody>\n",
       "</table>\n",
       "</div>"
      ],
      "text/plain": [
       "  Postal Code      Borough                           Neighbourhood\n",
       "0         M1B  Scarborough                          Malvern, Rouge\n",
       "1         M1C  Scarborough  Rouge Hill, Port Union, Highland Creek\n",
       "2         M1E  Scarborough       Guildwood, Morningside, West Hill\n",
       "3         M1G  Scarborough                                  Woburn\n",
       "4         M1H  Scarborough                               Cedarbrae"
      ]
     },
     "execution_count": 23,
     "metadata": {},
     "output_type": "execute_result"
    }
   ],
   "source": [
    "df_neighborhood = pd.read_csv('Toronto_data.csv',index_col=[0])\n",
    "df_neighborhood.head()"
   ]
  },
  {
   "cell_type": "code",
   "execution_count": 27,
   "metadata": {},
   "outputs": [],
   "source": [
    "df_coordinate.rename(columns={'Postal code': 'Postal Code'}, inplace=True)"
   ]
  },
  {
   "cell_type": "code",
   "execution_count": 28,
   "metadata": {},
   "outputs": [
    {
     "data": {
      "text/html": [
       "<div>\n",
       "<style scoped>\n",
       "    .dataframe tbody tr th:only-of-type {\n",
       "        vertical-align: middle;\n",
       "    }\n",
       "\n",
       "    .dataframe tbody tr th {\n",
       "        vertical-align: top;\n",
       "    }\n",
       "\n",
       "    .dataframe thead th {\n",
       "        text-align: right;\n",
       "    }\n",
       "</style>\n",
       "<table border=\"1\" class=\"dataframe\">\n",
       "  <thead>\n",
       "    <tr style=\"text-align: right;\">\n",
       "      <th></th>\n",
       "      <th>Postal Code</th>\n",
       "      <th>Borough</th>\n",
       "      <th>Neighbourhood</th>\n",
       "      <th>Latitude</th>\n",
       "      <th>Longitude</th>\n",
       "    </tr>\n",
       "  </thead>\n",
       "  <tbody>\n",
       "    <tr>\n",
       "      <th>0</th>\n",
       "      <td>M1B</td>\n",
       "      <td>Scarborough</td>\n",
       "      <td>Malvern, Rouge</td>\n",
       "      <td>43.806686</td>\n",
       "      <td>-79.194353</td>\n",
       "    </tr>\n",
       "    <tr>\n",
       "      <th>1</th>\n",
       "      <td>M1C</td>\n",
       "      <td>Scarborough</td>\n",
       "      <td>Rouge Hill, Port Union, Highland Creek</td>\n",
       "      <td>43.784535</td>\n",
       "      <td>-79.160497</td>\n",
       "    </tr>\n",
       "    <tr>\n",
       "      <th>2</th>\n",
       "      <td>M1E</td>\n",
       "      <td>Scarborough</td>\n",
       "      <td>Guildwood, Morningside, West Hill</td>\n",
       "      <td>43.763573</td>\n",
       "      <td>-79.188711</td>\n",
       "    </tr>\n",
       "    <tr>\n",
       "      <th>3</th>\n",
       "      <td>M1G</td>\n",
       "      <td>Scarborough</td>\n",
       "      <td>Woburn</td>\n",
       "      <td>43.770992</td>\n",
       "      <td>-79.216917</td>\n",
       "    </tr>\n",
       "    <tr>\n",
       "      <th>4</th>\n",
       "      <td>M1H</td>\n",
       "      <td>Scarborough</td>\n",
       "      <td>Cedarbrae</td>\n",
       "      <td>43.773136</td>\n",
       "      <td>-79.239476</td>\n",
       "    </tr>\n",
       "  </tbody>\n",
       "</table>\n",
       "</div>"
      ],
      "text/plain": [
       "  Postal Code      Borough                           Neighbourhood   Latitude  \\\n",
       "0         M1B  Scarborough                          Malvern, Rouge  43.806686   \n",
       "1         M1C  Scarborough  Rouge Hill, Port Union, Highland Creek  43.784535   \n",
       "2         M1E  Scarborough       Guildwood, Morningside, West Hill  43.763573   \n",
       "3         M1G  Scarborough                                  Woburn  43.770992   \n",
       "4         M1H  Scarborough                               Cedarbrae  43.773136   \n",
       "\n",
       "   Longitude  \n",
       "0 -79.194353  \n",
       "1 -79.160497  \n",
       "2 -79.188711  \n",
       "3 -79.216917  \n",
       "4 -79.239476  "
      ]
     },
     "execution_count": 28,
     "metadata": {},
     "output_type": "execute_result"
    }
   ],
   "source": [
    "df_neighborhood_coordinates = pd.merge(df_neighborhood, df_coordinate, on='Postal Code')\n",
    "df_neighborhood_coordinates.head()"
   ]
  },
  {
   "cell_type": "code",
   "execution_count": 29,
   "metadata": {},
   "outputs": [],
   "source": [
    "df_neighborhood_coordinates.to_csv('Toronto_data2.csv')"
   ]
  },
  {
   "cell_type": "code",
   "execution_count": 30,
   "metadata": {},
   "outputs": [
    {
     "data": {
      "text/html": [
       "<div>\n",
       "<style scoped>\n",
       "    .dataframe tbody tr th:only-of-type {\n",
       "        vertical-align: middle;\n",
       "    }\n",
       "\n",
       "    .dataframe tbody tr th {\n",
       "        vertical-align: top;\n",
       "    }\n",
       "\n",
       "    .dataframe thead th {\n",
       "        text-align: right;\n",
       "    }\n",
       "</style>\n",
       "<table border=\"1\" class=\"dataframe\">\n",
       "  <thead>\n",
       "    <tr style=\"text-align: right;\">\n",
       "      <th></th>\n",
       "      <th>Postal Code</th>\n",
       "      <th>Borough</th>\n",
       "      <th>Neighbourhood</th>\n",
       "      <th>Latitude</th>\n",
       "      <th>Longitude</th>\n",
       "    </tr>\n",
       "  </thead>\n",
       "  <tbody>\n",
       "    <tr>\n",
       "      <th>0</th>\n",
       "      <td>M1B</td>\n",
       "      <td>Scarborough</td>\n",
       "      <td>Malvern, Rouge</td>\n",
       "      <td>43.806686</td>\n",
       "      <td>-79.194353</td>\n",
       "    </tr>\n",
       "    <tr>\n",
       "      <th>1</th>\n",
       "      <td>M1C</td>\n",
       "      <td>Scarborough</td>\n",
       "      <td>Rouge Hill, Port Union, Highland Creek</td>\n",
       "      <td>43.784535</td>\n",
       "      <td>-79.160497</td>\n",
       "    </tr>\n",
       "    <tr>\n",
       "      <th>2</th>\n",
       "      <td>M1E</td>\n",
       "      <td>Scarborough</td>\n",
       "      <td>Guildwood, Morningside, West Hill</td>\n",
       "      <td>43.763573</td>\n",
       "      <td>-79.188711</td>\n",
       "    </tr>\n",
       "    <tr>\n",
       "      <th>3</th>\n",
       "      <td>M1G</td>\n",
       "      <td>Scarborough</td>\n",
       "      <td>Woburn</td>\n",
       "      <td>43.770992</td>\n",
       "      <td>-79.216917</td>\n",
       "    </tr>\n",
       "    <tr>\n",
       "      <th>4</th>\n",
       "      <td>M1H</td>\n",
       "      <td>Scarborough</td>\n",
       "      <td>Cedarbrae</td>\n",
       "      <td>43.773136</td>\n",
       "      <td>-79.239476</td>\n",
       "    </tr>\n",
       "  </tbody>\n",
       "</table>\n",
       "</div>"
      ],
      "text/plain": [
       "  Postal Code      Borough                           Neighbourhood   Latitude  \\\n",
       "0         M1B  Scarborough                          Malvern, Rouge  43.806686   \n",
       "1         M1C  Scarborough  Rouge Hill, Port Union, Highland Creek  43.784535   \n",
       "2         M1E  Scarborough       Guildwood, Morningside, West Hill  43.763573   \n",
       "3         M1G  Scarborough                                  Woburn  43.770992   \n",
       "4         M1H  Scarborough                               Cedarbrae  43.773136   \n",
       "\n",
       "   Longitude  \n",
       "0 -79.194353  \n",
       "1 -79.160497  \n",
       "2 -79.188711  \n",
       "3 -79.216917  \n",
       "4 -79.239476  "
      ]
     },
     "execution_count": 30,
     "metadata": {},
     "output_type": "execute_result"
    }
   ],
   "source": [
    "df = pd.read_csv('Toronto_data2.csv', index_col=0)\n",
    "df.head()"
   ]
  },
  {
   "cell_type": "code",
   "execution_count": 31,
   "metadata": {},
   "outputs": [
    {
     "data": {
      "text/plain": [
       "Borough\n",
       "Central Toronto      9\n",
       "Downtown Toronto    19\n",
       "East Toronto         5\n",
       "East York            5\n",
       "Etobicoke           12\n",
       "Mississauga          1\n",
       "North York          24\n",
       "Scarborough         17\n",
       "West Toronto         6\n",
       "York                 5\n",
       "Name: Neighbourhood, dtype: int64"
      ]
     },
     "execution_count": 31,
     "metadata": {},
     "output_type": "execute_result"
    }
   ],
   "source": [
    "df.groupby('Borough').count()['Neighbourhood']"
   ]
  },
  {
   "cell_type": "code",
   "execution_count": 32,
   "metadata": {},
   "outputs": [
    {
     "name": "stderr",
     "output_type": "stream",
     "text": [
      "c:\\users\\salman memon\\appdata\\local\\programs\\python\\python38-32\\lib\\site-packages\\pandas\\core\\frame.py:3990: SettingWithCopyWarning: \n",
      "A value is trying to be set on a copy of a slice from a DataFrame\n",
      "\n",
      "See the caveats in the documentation: https://pandas.pydata.org/pandas-docs/stable/user_guide/indexing.html#returning-a-view-versus-a-copy\n",
      "  return super().drop(\n"
     ]
    },
    {
     "data": {
      "text/html": [
       "<div>\n",
       "<style scoped>\n",
       "    .dataframe tbody tr th:only-of-type {\n",
       "        vertical-align: middle;\n",
       "    }\n",
       "\n",
       "    .dataframe tbody tr th {\n",
       "        vertical-align: top;\n",
       "    }\n",
       "\n",
       "    .dataframe thead th {\n",
       "        text-align: right;\n",
       "    }\n",
       "</style>\n",
       "<table border=\"1\" class=\"dataframe\">\n",
       "  <thead>\n",
       "    <tr style=\"text-align: right;\">\n",
       "      <th></th>\n",
       "      <th>Postal Code</th>\n",
       "      <th>Borough</th>\n",
       "      <th>Neighbourhood</th>\n",
       "      <th>Latitude</th>\n",
       "      <th>Longitude</th>\n",
       "    </tr>\n",
       "  </thead>\n",
       "  <tbody>\n",
       "    <tr>\n",
       "      <th>0</th>\n",
       "      <td>M4E</td>\n",
       "      <td>East Toronto</td>\n",
       "      <td>The Beaches</td>\n",
       "      <td>43.676357</td>\n",
       "      <td>-79.293031</td>\n",
       "    </tr>\n",
       "    <tr>\n",
       "      <th>1</th>\n",
       "      <td>M4K</td>\n",
       "      <td>East Toronto</td>\n",
       "      <td>The Danforth West, Riverdale</td>\n",
       "      <td>43.679557</td>\n",
       "      <td>-79.352188</td>\n",
       "    </tr>\n",
       "    <tr>\n",
       "      <th>2</th>\n",
       "      <td>M4L</td>\n",
       "      <td>East Toronto</td>\n",
       "      <td>India Bazaar, The Beaches West</td>\n",
       "      <td>43.668999</td>\n",
       "      <td>-79.315572</td>\n",
       "    </tr>\n",
       "    <tr>\n",
       "      <th>3</th>\n",
       "      <td>M4M</td>\n",
       "      <td>East Toronto</td>\n",
       "      <td>Studio District</td>\n",
       "      <td>43.659526</td>\n",
       "      <td>-79.340923</td>\n",
       "    </tr>\n",
       "    <tr>\n",
       "      <th>4</th>\n",
       "      <td>M4N</td>\n",
       "      <td>Central Toronto</td>\n",
       "      <td>Lawrence Park</td>\n",
       "      <td>43.728020</td>\n",
       "      <td>-79.388790</td>\n",
       "    </tr>\n",
       "  </tbody>\n",
       "</table>\n",
       "</div>"
      ],
      "text/plain": [
       "  Postal Code          Borough                   Neighbourhood   Latitude  \\\n",
       "0         M4E     East Toronto                     The Beaches  43.676357   \n",
       "1         M4K     East Toronto    The Danforth West, Riverdale  43.679557   \n",
       "2         M4L     East Toronto  India Bazaar, The Beaches West  43.668999   \n",
       "3         M4M     East Toronto                 Studio District  43.659526   \n",
       "4         M4N  Central Toronto                   Lawrence Park  43.728020   \n",
       "\n",
       "   Longitude  \n",
       "0 -79.293031  \n",
       "1 -79.352188  \n",
       "2 -79.315572  \n",
       "3 -79.340923  \n",
       "4 -79.388790  "
      ]
     },
     "execution_count": 32,
     "metadata": {},
     "output_type": "execute_result"
    }
   ],
   "source": [
    "df_torontodata = df[df['Borough'].str.contains('Toronto')]\n",
    "df_torontodata.reset_index(inplace=True)\n",
    "df_torontodata.drop('index', axis=1, inplace=True)\n",
    "df_torontodata.head()"
   ]
  },
  {
   "cell_type": "code",
   "execution_count": 34,
   "metadata": {},
   "outputs": [
    {
     "name": "stdout",
     "output_type": "stream",
     "text": [
      "Borough\n",
      "Central Toronto      9\n",
      "Downtown Toronto    19\n",
      "East Toronto         5\n",
      "West Toronto         6\n",
      "Name: Neighbourhood, dtype: int64\n"
     ]
    }
   ],
   "source": [
    "print(df_torontodata.groupby('Borough').count()['Neighbourhood'])"
   ]
  },
  {
   "cell_type": "code",
   "execution_count": 35,
   "metadata": {},
   "outputs": [],
   "source": [
    "boroughs = df_torontodata['Borough'].unique().tolist()"
   ]
  },
  {
   "cell_type": "code",
   "execution_count": 36,
   "metadata": {},
   "outputs": [
    {
     "name": "stdout",
     "output_type": "stream",
     "text": [
      "The geographical coordinates of Toronto: 43.66713498717947, -79.38987324871795\n"
     ]
    }
   ],
   "source": [
    "lat_toronto = df_torontodata['Latitude'].mean()\n",
    "lon_toronto = df_torontodata['Longitude'].mean()\n",
    "print('The geographical coordinates of Toronto: {}, {}'.format(lat_toronto, lon_toronto))"
   ]
  },
  {
   "cell_type": "code",
   "execution_count": 37,
   "metadata": {},
   "outputs": [],
   "source": [
    "borough_color = {}\n",
    "for borough in boroughs:\n",
    "    borough_color[borough]= '#%02X%02X%02X' % tuple(np.random.choice(range(256), size=3))"
   ]
  },
  {
   "cell_type": "code",
   "execution_count": 40,
   "metadata": {},
   "outputs": [
    {
     "data": {
      "text/html": [
       "<div style=\"width:100%;\"><div style=\"position:relative;width:100%;height:0;padding-bottom:60%;\"><span style=\"color:#565656\">Make this Notebook Trusted to load map: File -> Trust Notebook</span><iframe src=\"about:blank\" style=\"position:absolute;width:100%;height:100%;left:0;top:0;border:none !important;\" data-html=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 onload=\"this.contentDocument.open();this.contentDocument.write(atob(this.getAttribute('data-html')));this.contentDocument.close();\" allowfullscreen webkitallowfullscreen mozallowfullscreen></iframe></div></div>"
      ],
      "text/plain": [
       "<folium.folium.Map at 0x170456b8>"
      ]
     },
     "execution_count": 40,
     "metadata": {},
     "output_type": "execute_result"
    }
   ],
   "source": [
    "toronto_map = folium.Map(location=[lat_toronto, lon_toronto], zoom_start=12)\n",
    "\n",
    "for lat, lng, borough, neighborhood in zip(df_torontodata['Latitude'], \n",
    "                                           df_torontodata['Longitude'],\n",
    "                                           df_torontodata['Borough'], \n",
    "                                           df_torontodata['Neighbourhood']):\n",
    "    label_text = borough + ' - ' + neighborhood\n",
    "    label = folium.Popup(label_text)\n",
    "    folium.CircleMarker(\n",
    "        [lat, lng],\n",
    "        radius=5,\n",
    "        popup=label,\n",
    "        color=borough_color[borough],\n",
    "        fill_color=borough_color[borough],\n",
    "        fill_opacity=0.7).add_to(toronto_map)  \n",
    "    \n",
    "toronto_map"
   ]
  },
  {
   "cell_type": "code",
   "execution_count": 41,
   "metadata": {},
   "outputs": [],
   "source": [
    "CLIENT_ID = 'E5YCKOQX2TAQNEINECKNVOG1XO54PULEH0SMCJPV11ROEA30' \n",
    "CLIENT_SECRET = 'S1G5JXDQZCTC0NB15WW3244V4VDOOWLCAAGSGX5D4VMZBD20' \n",
    "VERSION = '20201704'\n",
    "LIMIT = 100 \n",
    "radius = 500"
   ]
  },
  {
   "cell_type": "code",
   "execution_count": 42,
   "metadata": {},
   "outputs": [],
   "source": [
    "def getNearbyVenues(names, latitudes, longitudes, radius=500):\n",
    "    \n",
    "    venues_list=[]\n",
    "    for name, lat, lng in zip(names, latitudes, longitudes):\n",
    "        print(name)\n",
    "        url = 'https://api.foursquare.com/v2/venues/explore?&client_id={}&client_secret={}&v={}&ll={},{}&radius={}&limit={}'.format(\n",
    "            CLIENT_ID, \n",
    "            CLIENT_SECRET, \n",
    "            VERSION, \n",
    "            lat, \n",
    "            lng, \n",
    "            radius, \n",
    "            LIMIT)\n",
    "    \n",
    "        results = requests.get(url).json()[\"response\"]['groups'][0]['items']\n",
    "        venues_list.append([(\n",
    "            name, \n",
    "            lat, \n",
    "            lng, \n",
    "            v['venue']['name'], \n",
    "            v['venue']['location']['lat'], \n",
    "            v['venue']['location']['lng'],  \n",
    "            v['venue']['categories'][0]['name']) for v in results])\n",
    "   \n",
    "    nearby_venues = pd.DataFrame([item for venue_list in venues_list for item in venue_list])\n",
    "    nearby_venues.columns = ['Neighborhood', \n",
    "                  'Neighborhood Latitude', \n",
    "                  'Neighborhood Longitude', \n",
    "                  'Venue', \n",
    "                  'Venue Latitude', \n",
    "                  'Venue Longitude', \n",
    "                  'Venue Category']\n",
    "    \n",
    "    return(nearby_venues)"
   ]
  },
  {
   "cell_type": "code",
   "execution_count": 44,
   "metadata": {},
   "outputs": [
    {
     "name": "stdout",
     "output_type": "stream",
     "text": [
      "The Beaches\n",
      "The Danforth West, Riverdale\n",
      "India Bazaar, The Beaches West\n",
      "Studio District\n",
      "Lawrence Park\n",
      "Davisville North\n",
      "North Toronto West, Lawrence Park\n",
      "Davisville\n",
      "Moore Park, Summerhill East\n",
      "Summerhill West, Rathnelly, South Hill, Forest Hill SE, Deer Park\n",
      "Rosedale\n",
      "St. James Town, Cabbagetown\n",
      "Church and Wellesley\n",
      "Regent Park, Harbourfront\n",
      "Garden District, Ryerson\n",
      "St. James Town\n",
      "Berczy Park\n",
      "Central Bay Street\n",
      "Richmond, Adelaide, King\n",
      "Harbourfront East, Union Station, Toronto Islands\n",
      "Toronto Dominion Centre, Design Exchange\n",
      "Commerce Court, Victoria Hotel\n",
      "Roselawn\n",
      "Forest Hill North & West, Forest Hill Road Park\n",
      "The Annex, North Midtown, Yorkville\n",
      "University of Toronto, Harbord\n",
      "Kensington Market, Chinatown, Grange Park\n",
      "CN Tower, King and Spadina, Railway Lands, Harbourfront West, Bathurst Quay, South Niagara, Island airport\n",
      "Stn A PO Boxes\n",
      "First Canadian Place, Underground city\n",
      "Christie\n",
      "Dufferin, Dovercourt Village\n",
      "Little Portugal, Trinity\n",
      "Brockton, Parkdale Village, Exhibition Place\n",
      "High Park, The Junction South\n",
      "Parkdale, Roncesvalles\n",
      "Runnymede, Swansea\n",
      "Queen's Park, Ontario Provincial Government\n",
      "Business reply mail Processing Centre, South Central Letter Processing Plant Toronto\n"
     ]
    }
   ],
   "source": [
    "toronto_venue = getNearbyVenues(names=df_torontodata['Neighbourhood'],\n",
    "                                latitudes=df_torontodata['Latitude'],\n",
    "                                longitudes=df_torontodata['Longitude'])"
   ]
  },
  {
   "cell_type": "code",
   "execution_count": 45,
   "metadata": {},
   "outputs": [
    {
     "data": {
      "text/plain": [
       "(1624, 7)"
      ]
     },
     "execution_count": 45,
     "metadata": {},
     "output_type": "execute_result"
    }
   ],
   "source": [
    "toronto_venue.shape"
   ]
  }
 ],
 "metadata": {
  "kernelspec": {
   "display_name": "Python 3",
   "language": "python",
   "name": "python3"
  },
  "language_info": {
   "codemirror_mode": {
    "name": "ipython",
    "version": 3
   },
   "file_extension": ".py",
   "mimetype": "text/x-python",
   "name": "python",
   "nbconvert_exporter": "python",
   "pygments_lexer": "ipython3",
   "version": "3.8.0"
  }
 },
 "nbformat": 4,
 "nbformat_minor": 4
}
